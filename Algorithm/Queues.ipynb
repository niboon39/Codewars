{
 "cells": [
  {
   "cell_type": "code",
   "execution_count": 15,
   "metadata": {},
   "outputs": [],
   "source": [
    "from collections import deque as dq"
   ]
  },
  {
   "cell_type": "code",
   "execution_count": 16,
   "metadata": {},
   "outputs": [
    {
     "name": "stdout",
     "output_type": "stream",
     "text": [
      "deque([1, 3, 4])\n",
      "1\n",
      "deque([3, 4])\n"
     ]
    }
   ],
   "source": [
    "queue = dq([1])\n",
    "queue.append(3)\n",
    "queue.append(4)\n",
    "print(queue)\n",
    "\n",
    "first_number = queue.popleft()\n",
    "print(first_number)\n",
    "print(queue)"
   ]
  },
  {
   "cell_type": "code",
   "execution_count": 19,
   "metadata": {},
   "outputs": [
    {
     "name": "stdout",
     "output_type": "stream",
     "text": [
      "[1, 3, 4, 7, 10, 9, 13, 15, 22, 21, 31]\n"
     ]
    }
   ],
   "source": [
    "# Generate the first 10 elements of the sequence \n",
    "\n",
    "sequence = [1]\n",
    "\n",
    "for x in sequence: \n",
    "    if (len(sequence) >= 10):\n",
    "        break \n",
    "    sequence.append(2*x + 1)\n",
    "    sequence.append(3*x + 1)\n",
    "print(sequence)"
   ]
  },
  {
   "cell_type": "code",
   "execution_count": 20,
   "metadata": {},
   "outputs": [
    {
     "name": "stdout",
     "output_type": "stream",
     "text": [
      "[1, 3, 4, 7, 9, 10, 13, 15, 21, 22, 31]\n"
     ]
    }
   ],
   "source": [
    "sequence = list(set(sequence))\n",
    "sequence.sort() \n",
    "print(sequence)"
   ]
  },
  {
   "cell_type": "code",
   "execution_count": 24,
   "metadata": {},
   "outputs": [
    {
     "name": "stdout",
     "output_type": "stream",
     "text": [
      "22\n"
     ]
    }
   ],
   "source": [
    "from heapq import heappop, heappush \n",
    "\n",
    "def dbl_linear(n):\n",
    "    sequence = [1]\n",
    "\n",
    "    queue_2 = [] # 2x+1\n",
    "    queue_3 = [] # 3x+1\n",
    "\n",
    "    seen = {1}\n",
    "    \n",
    "    for _ in range(n):\n",
    "        x = sequence[-1]\n",
    "\n",
    "        y = 2*x +1\n",
    "        z = 3*x +1 \n",
    "\n",
    "        if y not in seen: \n",
    "            heappush(queue_2, y)\n",
    "            seen.add(y)\n",
    "        if z not in seen:\n",
    "            heappush(queue_3, z)\n",
    "            seen.add(z)\n",
    "        \n",
    "        if queue_2 and (not queue_3 or queue_2[0] < queue_3[0]):\n",
    "            sequence.append(heappop(queue_2))\n",
    "        else:\n",
    "            sequence.append(heappop(queue_3))\n",
    "    return sequence[n]\n",
    "\n",
    "\n",
    "print(dbl_linear(10))"
   ]
  },
  {
   "cell_type": "code",
   "execution_count": null,
   "metadata": {},
   "outputs": [],
   "source": []
  }
 ],
 "metadata": {
  "kernelspec": {
   "display_name": "base",
   "language": "python",
   "name": "python3"
  },
  "language_info": {
   "codemirror_mode": {
    "name": "ipython",
    "version": 3
   },
   "file_extension": ".py",
   "mimetype": "text/x-python",
   "name": "python",
   "nbconvert_exporter": "python",
   "pygments_lexer": "ipython3",
   "version": "3.11.3"
  }
 },
 "nbformat": 4,
 "nbformat_minor": 2
}
