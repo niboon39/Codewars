{
 "cells": [
  {
   "cell_type": "code",
   "metadata": {
    "ExecuteTime": {
     "end_time": "2024-04-19T14:13:29.569272Z",
     "start_time": "2024-04-19T14:13:29.566306Z"
    }
   },
   "source": [
    "import numpy as np\n",
    "import pandas as pd "
   ],
   "outputs": [],
   "execution_count": 111
  },
  {
   "cell_type": "code",
   "metadata": {
    "ExecuteTime": {
     "end_time": "2024-04-19T14:13:29.632786Z",
     "start_time": "2024-04-19T14:13:29.629801Z"
    }
   },
   "source": [
    "def info_np(n) -> str:\n",
    "    print(n)\n",
    "    return  f\"Dim : {n.ndim} , Shape : {n.shape} , Type(Element/Obj) : {n.dtype , type(n)} , a element in array : {n.size}\""
   ],
   "outputs": [],
   "execution_count": 112
  },
  {
   "cell_type": "code",
   "metadata": {
    "ExecuteTime": {
     "end_time": "2024-04-19T14:13:29.667809Z",
     "start_time": "2024-04-19T14:13:29.663979Z"
    }
   },
   "source": [
    "d1 = np.array([1,2,3])\n",
    "d1 , d1.shape\n"
   ],
   "outputs": [
    {
     "data": {
      "text/plain": [
       "(array([1, 2, 3]), (3,))"
      ]
     },
     "execution_count": 113,
     "metadata": {},
     "output_type": "execute_result"
    }
   ],
   "execution_count": 113
  },
  {
   "cell_type": "code",
   "metadata": {
    "ExecuteTime": {
     "end_time": "2024-04-19T14:13:29.681129Z",
     "start_time": "2024-04-19T14:13:29.677326Z"
    }
   },
   "source": [
    "d2 = np.array([[1,2,3],\n",
    "               [4,5,6]])\n",
    "d2 , d2.shape"
   ],
   "outputs": [
    {
     "data": {
      "text/plain": [
       "(array([[1, 2, 3],\n",
       "        [4, 5, 6]]),\n",
       " (2, 3))"
      ]
     },
     "execution_count": 114,
     "metadata": {},
     "output_type": "execute_result"
    }
   ],
   "execution_count": 114
  },
  {
   "cell_type": "code",
   "metadata": {
    "ExecuteTime": {
     "end_time": "2024-04-19T14:13:29.696364Z",
     "start_time": "2024-04-19T14:13:29.691253Z"
    }
   },
   "source": [
    "d3 = np.array( [[[1,2,3],\n",
    "                 [4,5,6],\n",
    "                 [7,8,9]],\n",
    "                [[10,11,12],\n",
    "                 [13,14,15],\n",
    "                 [16,17,18]]] )\n",
    "d3 , d3.shape"
   ],
   "outputs": [
    {
     "data": {
      "text/plain": [
       "(array([[[ 1,  2,  3],\n",
       "         [ 4,  5,  6],\n",
       "         [ 7,  8,  9]],\n",
       " \n",
       "        [[10, 11, 12],\n",
       "         [13, 14, 15],\n",
       "         [16, 17, 18]]]),\n",
       " (2, 3, 3))"
      ]
     },
     "execution_count": 115,
     "metadata": {},
     "output_type": "execute_result"
    }
   ],
   "execution_count": 115
  },
  {
   "cell_type": "code",
   "metadata": {
    "ExecuteTime": {
     "end_time": "2024-04-19T14:13:29.715117Z",
     "start_time": "2024-04-19T14:13:29.711850Z"
    }
   },
   "source": [
    "print(\"What is the diemension of np array? : \",d1.ndim , d2.ndim , d3.ndim)\n",
    "print(\"What is the type of np array? :\",d1.dtype , d2.dtype , d3.dtype)\n",
    "print(\"How many element? : \",d1.size , d2.size , d3.size)"
   ],
   "outputs": [
    {
     "name": "stdout",
     "output_type": "stream",
     "text": [
      "What is the diemension of np array? :  1 2 3\n",
      "What is the type of np array? : int64 int64 int64\n",
      "How many element? :  3 6 18\n"
     ]
    }
   ],
   "execution_count": 116
  },
  {
   "cell_type": "code",
   "metadata": {
    "ExecuteTime": {
     "end_time": "2024-04-19T14:13:29.759648Z",
     "start_time": "2024-04-19T14:13:29.748013Z"
    }
   },
   "source": [
    "# Create a Dataframe from a Numpy array \n",
    "df = pd.DataFrame(d2 , columns=[\"A\" , \"B\" , \"C\"])\n",
    "df"
   ],
   "outputs": [
    {
     "data": {
      "text/plain": [
       "   A  B  C\n",
       "0  1  2  3\n",
       "1  4  5  6"
      ],
      "text/html": [
       "<div>\n",
       "<style scoped>\n",
       "    .dataframe tbody tr th:only-of-type {\n",
       "        vertical-align: middle;\n",
       "    }\n",
       "\n",
       "    .dataframe tbody tr th {\n",
       "        vertical-align: top;\n",
       "    }\n",
       "\n",
       "    .dataframe thead th {\n",
       "        text-align: right;\n",
       "    }\n",
       "</style>\n",
       "<table border=\"1\" class=\"dataframe\">\n",
       "  <thead>\n",
       "    <tr style=\"text-align: right;\">\n",
       "      <th></th>\n",
       "      <th>A</th>\n",
       "      <th>B</th>\n",
       "      <th>C</th>\n",
       "    </tr>\n",
       "  </thead>\n",
       "  <tbody>\n",
       "    <tr>\n",
       "      <th>0</th>\n",
       "      <td>1</td>\n",
       "      <td>2</td>\n",
       "      <td>3</td>\n",
       "    </tr>\n",
       "    <tr>\n",
       "      <th>1</th>\n",
       "      <td>4</td>\n",
       "      <td>5</td>\n",
       "      <td>6</td>\n",
       "    </tr>\n",
       "  </tbody>\n",
       "</table>\n",
       "</div>"
      ]
     },
     "execution_count": 117,
     "metadata": {},
     "output_type": "execute_result"
    }
   ],
   "execution_count": 117
  },
  {
   "cell_type": "code",
   "metadata": {
    "ExecuteTime": {
     "end_time": "2024-04-19T14:13:29.791595Z",
     "start_time": "2024-04-19T14:13:29.787621Z"
    }
   },
   "source": [
    "# press \"shift + TAB\" To see the comment \n",
    "ones : np.ndarray = np.ones((3) , np.int32)\n",
    "info_np(ones)"
   ],
   "outputs": [
    {
     "name": "stdout",
     "output_type": "stream",
     "text": [
      "[1 1 1]\n"
     ]
    },
    {
     "data": {
      "text/plain": [
       "\"Dim : 1 , Shape : (3,) , Type(Element/Obj) : (dtype('int32'), <class 'numpy.ndarray'>) , a element in array : 3\""
      ]
     },
     "execution_count": 118,
     "metadata": {},
     "output_type": "execute_result"
    }
   ],
   "execution_count": 118
  },
  {
   "cell_type": "code",
   "metadata": {
    "ExecuteTime": {
     "end_time": "2024-04-19T14:13:29.830011Z",
     "start_time": "2024-04-19T14:13:29.825075Z"
    }
   },
   "source": [
    "zeros : np.ndarray = np.zeros((2,3) , dtype=np.float32)\n",
    "info_np(zeros)"
   ],
   "outputs": [
    {
     "name": "stdout",
     "output_type": "stream",
     "text": [
      "[[0. 0. 0.]\n",
      " [0. 0. 0.]]\n"
     ]
    },
    {
     "data": {
      "text/plain": [
       "\"Dim : 2 , Shape : (2, 3) , Type(Element/Obj) : (dtype('float32'), <class 'numpy.ndarray'>) , a element in array : 6\""
      ]
     },
     "execution_count": 119,
     "metadata": {},
     "output_type": "execute_result"
    }
   ],
   "execution_count": 119
  },
  {
   "cell_type": "code",
   "metadata": {
    "ExecuteTime": {
     "end_time": "2024-04-19T14:13:29.880351Z",
     "start_time": "2024-04-19T14:13:29.876068Z"
    }
   },
   "source": [
    "range_array : np.ndarray = np.arange(1,11,1)\n",
    "info_np(range_array)"
   ],
   "outputs": [
    {
     "name": "stdout",
     "output_type": "stream",
     "text": [
      "[ 1  2  3  4  5  6  7  8  9 10]\n"
     ]
    },
    {
     "data": {
      "text/plain": [
       "\"Dim : 1 , Shape : (10,) , Type(Element/Obj) : (dtype('int64'), <class 'numpy.ndarray'>) , a element in array : 10\""
      ]
     },
     "execution_count": 120,
     "metadata": {},
     "output_type": "execute_result"
    }
   ],
   "execution_count": 120
  },
  {
   "cell_type": "code",
   "metadata": {
    "ExecuteTime": {
     "end_time": "2024-04-19T14:13:29.914335Z",
     "start_time": "2024-04-19T14:13:29.910056Z"
    }
   },
   "source": [
    "np.random.seed(seed=23)\n",
    "random_array : np.ndarray = np.random.randint(low=0 , high=10 ,dtype=int , size=(3,5))\n",
    "info_np(random_array)"
   ],
   "outputs": [
    {
     "name": "stdout",
     "output_type": "stream",
     "text": [
      "[[3 6 8 9 6]\n",
      " [8 7 9 3 6]\n",
      " [1 2 5 5 0]]\n"
     ]
    },
    {
     "data": {
      "text/plain": [
       "\"Dim : 2 , Shape : (3, 5) , Type(Element/Obj) : (dtype('int64'), <class 'numpy.ndarray'>) , a element in array : 15\""
      ]
     },
     "execution_count": 121,
     "metadata": {},
     "output_type": "execute_result"
    }
   ],
   "execution_count": 121
  },
  {
   "cell_type": "code",
   "metadata": {
    "ExecuteTime": {
     "end_time": "2024-04-19T14:13:30.069428Z",
     "start_time": "2024-04-19T14:13:30.065926Z"
    }
   },
   "source": [
    "# Viewing array and matrices \n",
    "\n",
    "np.unique(random_array)"
   ],
   "outputs": [
    {
     "data": {
      "text/plain": [
       "array([0, 1, 2, 3, 5, 6, 7, 8, 9])"
      ]
     },
     "execution_count": 122,
     "metadata": {},
     "output_type": "execute_result"
    }
   ],
   "execution_count": 122
  },
  {
   "cell_type": "code",
   "metadata": {
    "ExecuteTime": {
     "end_time": "2024-04-19T14:13:30.096839Z",
     "start_time": "2024-04-19T14:13:30.093176Z"
    }
   },
   "source": [
    "d3"
   ],
   "outputs": [
    {
     "data": {
      "text/plain": [
       "array([[[ 1,  2,  3],\n",
       "        [ 4,  5,  6],\n",
       "        [ 7,  8,  9]],\n",
       "\n",
       "       [[10, 11, 12],\n",
       "        [13, 14, 15],\n",
       "        [16, 17, 18]]])"
      ]
     },
     "execution_count": 123,
     "metadata": {},
     "output_type": "execute_result"
    }
   ],
   "execution_count": 123
  },
  {
   "cell_type": "code",
   "metadata": {
    "ExecuteTime": {
     "end_time": "2024-04-19T14:13:30.144262Z",
     "start_time": "2024-04-19T14:13:30.140715Z"
    }
   },
   "source": [
    "d3[:2 , :1 , :3]"
   ],
   "outputs": [
    {
     "data": {
      "text/plain": [
       "array([[[ 1,  2,  3]],\n",
       "\n",
       "       [[10, 11, 12]]])"
      ]
     },
     "execution_count": 124,
     "metadata": {},
     "output_type": "execute_result"
    }
   ],
   "execution_count": 124
  },
  {
   "cell_type": "code",
   "metadata": {
    "ExecuteTime": {
     "end_time": "2024-04-19T14:13:30.172495Z",
     "start_time": "2024-04-19T14:13:30.168511Z"
    }
   },
   "source": [
    "## Manipulation & comparing arrays\n",
    "# Arimetric\n",
    "d1 + ones"
   ],
   "outputs": [
    {
     "data": {
      "text/plain": [
       "array([2, 3, 4])"
      ]
     },
     "execution_count": 125,
     "metadata": {},
     "output_type": "execute_result"
    }
   ],
   "execution_count": 125
  },
  {
   "cell_type": "code",
   "metadata": {
    "ExecuteTime": {
     "end_time": "2024-04-19T14:13:30.198793Z",
     "start_time": "2024-04-19T14:13:30.194838Z"
    }
   },
   "source": [
    "d1 - ones"
   ],
   "outputs": [
    {
     "data": {
      "text/plain": [
       "array([0, 1, 2])"
      ]
     },
     "execution_count": 126,
     "metadata": {},
     "output_type": "execute_result"
    }
   ],
   "execution_count": 126
  },
  {
   "cell_type": "code",
   "metadata": {
    "ExecuteTime": {
     "end_time": "2024-04-19T14:13:30.215255Z",
     "start_time": "2024-04-19T14:13:30.211900Z"
    }
   },
   "source": [
    "d1 * ones"
   ],
   "outputs": [
    {
     "data": {
      "text/plain": [
       "array([1, 2, 3])"
      ]
     },
     "execution_count": 127,
     "metadata": {},
     "output_type": "execute_result"
    }
   ],
   "execution_count": 127
  },
  {
   "cell_type": "code",
   "metadata": {
    "ExecuteTime": {
     "end_time": "2024-04-19T14:13:30.238292Z",
     "start_time": "2024-04-19T14:13:30.233314Z"
    }
   },
   "source": [
    "d1 * d2"
   ],
   "outputs": [
    {
     "data": {
      "text/plain": [
       "array([[ 1,  4,  9],\n",
       "       [ 4, 10, 18]])"
      ]
     },
     "execution_count": 128,
     "metadata": {},
     "output_type": "execute_result"
    }
   ],
   "execution_count": 128
  },
  {
   "cell_type": "code",
   "metadata": {
    "ExecuteTime": {
     "end_time": "2024-04-19T14:13:30.290592Z",
     "start_time": "2024-04-19T14:13:30.286673Z"
    }
   },
   "source": [
    "d1 / ones"
   ],
   "outputs": [
    {
     "data": {
      "text/plain": [
       "array([1., 2., 3.])"
      ]
     },
     "execution_count": 129,
     "metadata": {},
     "output_type": "execute_result"
    }
   ],
   "execution_count": 129
  },
  {
   "cell_type": "code",
   "metadata": {
    "ExecuteTime": {
     "end_time": "2024-04-19T14:13:30.324777Z",
     "start_time": "2024-04-19T14:13:30.321530Z"
    }
   },
   "source": [
    "d2 // d1"
   ],
   "outputs": [
    {
     "data": {
      "text/plain": [
       "array([[1, 1, 1],\n",
       "       [4, 2, 2]])"
      ]
     },
     "execution_count": 130,
     "metadata": {},
     "output_type": "execute_result"
    }
   ],
   "execution_count": 130
  },
  {
   "cell_type": "code",
   "metadata": {
    "ExecuteTime": {
     "end_time": "2024-04-19T14:13:30.363788Z",
     "start_time": "2024-04-19T14:13:30.359832Z"
    }
   },
   "source": [
    "d3"
   ],
   "outputs": [
    {
     "data": {
      "text/plain": [
       "array([[[ 1,  2,  3],\n",
       "        [ 4,  5,  6],\n",
       "        [ 7,  8,  9]],\n",
       "\n",
       "       [[10, 11, 12],\n",
       "        [13, 14, 15],\n",
       "        [16, 17, 18]]])"
      ]
     },
     "execution_count": 131,
     "metadata": {},
     "output_type": "execute_result"
    }
   ],
   "execution_count": 131
  },
  {
   "cell_type": "code",
   "metadata": {
    "ExecuteTime": {
     "end_time": "2024-04-19T14:13:30.385360Z",
     "start_time": "2024-04-19T14:13:30.380651Z"
    }
   },
   "source": [
    "d3n = d3.reshape((3,2,3))\n",
    "d3n"
   ],
   "outputs": [
    {
     "data": {
      "text/plain": [
       "array([[[ 1,  2,  3],\n",
       "        [ 4,  5,  6]],\n",
       "\n",
       "       [[ 7,  8,  9],\n",
       "        [10, 11, 12]],\n",
       "\n",
       "       [[13, 14, 15],\n",
       "        [16, 17, 18]]])"
      ]
     },
     "execution_count": 132,
     "metadata": {},
     "output_type": "execute_result"
    }
   ],
   "execution_count": 132
  },
  {
   "cell_type": "code",
   "metadata": {
    "ExecuteTime": {
     "end_time": "2024-04-19T14:13:30.429647Z",
     "start_time": "2024-04-19T14:13:30.425798Z"
    }
   },
   "source": [
    "d3n*d2"
   ],
   "outputs": [
    {
     "data": {
      "text/plain": [
       "array([[[  1,   4,   9],\n",
       "        [ 16,  25,  36]],\n",
       "\n",
       "       [[  7,  16,  27],\n",
       "        [ 40,  55,  72]],\n",
       "\n",
       "       [[ 13,  28,  45],\n",
       "        [ 64,  85, 108]]])"
      ]
     },
     "execution_count": 133,
     "metadata": {},
     "output_type": "execute_result"
    }
   ],
   "execution_count": 133
  },
  {
   "cell_type": "code",
   "metadata": {
    "ExecuteTime": {
     "end_time": "2024-04-19T14:13:30.449713Z",
     "start_time": "2024-04-19T14:13:30.445290Z"
    }
   },
   "source": [
    "d3z = (d2*d3n).reshape( (2,3,3))\n",
    "d3z"
   ],
   "outputs": [
    {
     "data": {
      "text/plain": [
       "array([[[  1,   4,   9],\n",
       "        [ 16,  25,  36],\n",
       "        [  7,  16,  27]],\n",
       "\n",
       "       [[ 40,  55,  72],\n",
       "        [ 13,  28,  45],\n",
       "        [ 64,  85, 108]]])"
      ]
     },
     "execution_count": 134,
     "metadata": {},
     "output_type": "execute_result"
    }
   ],
   "execution_count": 134
  },
  {
   "cell_type": "code",
   "metadata": {
    "ExecuteTime": {
     "end_time": "2024-04-19T14:13:30.467192Z",
     "start_time": "2024-04-19T14:13:30.462262Z"
    }
   },
   "source": [
    "rarray = np.random.random(100000)\n",
    "rarray[:10]"
   ],
   "outputs": [
    {
     "data": {
      "text/plain": [
       "array([0.88494754, 0.30040969, 0.58958187, 0.97842692, 0.84509382,\n",
       "       0.06507544, 0.29474446, 0.28793444, 0.82246634, 0.62618304])"
      ]
     },
     "execution_count": 135,
     "metadata": {},
     "output_type": "execute_result"
    }
   ],
   "execution_count": 135
  },
  {
   "cell_type": "code",
   "metadata": {
    "ExecuteTime": {
     "end_time": "2024-04-19T14:13:39.986728Z",
     "start_time": "2024-04-19T14:13:30.517210Z"
    }
   },
   "source": [
    "'''\n",
    "Use Python's method ( sum() ) on Python datatype and use Nunmpy's methods on Numpy array ( np.sum() ).\n",
    "'''\n",
    "%timeit sum(rarray)\n",
    "%timeit np.sum(rarray)"
   ],
   "outputs": [
    {
     "name": "stdout",
     "output_type": "stream",
     "text": [
      "8.46 ms ± 2.18 ms per loop (mean ± std. dev. of 7 runs, 100 loops each)\n",
      "29.1 µs ± 379 ns per loop (mean ± std. dev. of 7 runs, 10,000 loops each)\n"
     ]
    }
   ],
   "execution_count": 136
  },
  {
   "cell_type": "code",
   "metadata": {
    "ExecuteTime": {
     "end_time": "2024-04-19T14:13:39.992231Z",
     "start_time": "2024-04-19T14:13:39.988221Z"
    }
   },
   "source": [
    "np.max(rarray)"
   ],
   "outputs": [
    {
     "data": {
      "text/plain": [
       "0.9999977907227711"
      ]
     },
     "execution_count": 137,
     "metadata": {},
     "output_type": "execute_result"
    }
   ],
   "execution_count": 137
  },
  {
   "cell_type": "code",
   "metadata": {
    "ExecuteTime": {
     "end_time": "2024-04-19T14:13:40.015634Z",
     "start_time": "2024-04-19T14:13:39.993159Z"
    }
   },
   "source": [
    "np.min(rarray)"
   ],
   "outputs": [
    {
     "data": {
      "text/plain": [
       "8.37743545545333e-06"
      ]
     },
     "execution_count": 138,
     "metadata": {},
     "output_type": "execute_result"
    }
   ],
   "execution_count": 138
  },
  {
   "cell_type": "code",
   "metadata": {
    "ExecuteTime": {
     "end_time": "2024-04-19T14:13:40.030965Z",
     "start_time": "2024-04-19T14:13:40.017552Z"
    }
   },
   "source": [
    "np.std(rarray)"
   ],
   "outputs": [
    {
     "data": {
      "text/plain": [
       "0.2881049610766174"
      ]
     },
     "execution_count": 139,
     "metadata": {},
     "output_type": "execute_result"
    }
   ],
   "execution_count": 139
  },
  {
   "cell_type": "code",
   "metadata": {
    "ExecuteTime": {
     "end_time": "2024-04-19T14:13:40.052407Z",
     "start_time": "2024-04-19T14:13:40.032014Z"
    }
   },
   "source": [
    "np.mean(rarray)"
   ],
   "outputs": [
    {
     "data": {
      "text/plain": [
       "0.49929640939161807"
      ]
     },
     "execution_count": 140,
     "metadata": {},
     "output_type": "execute_result"
    }
   ],
   "execution_count": 140
  },
  {
   "cell_type": "code",
   "metadata": {
    "ExecuteTime": {
     "end_time": "2024-04-19T14:13:40.064330Z",
     "start_time": "2024-04-19T14:13:40.053447Z"
    }
   },
   "source": [
    "np.median(rarray)"
   ],
   "outputs": [
    {
     "data": {
      "text/plain": [
       "0.49810664422485174"
      ]
     },
     "execution_count": 141,
     "metadata": {},
     "output_type": "execute_result"
    }
   ],
   "execution_count": 141
  },
  {
   "cell_type": "code",
   "metadata": {
    "ExecuteTime": {
     "end_time": "2024-04-19T14:13:40.081065Z",
     "start_time": "2024-04-19T14:13:40.065234Z"
    }
   },
   "source": [
    "np.var(rarray)"
   ],
   "outputs": [
    {
     "data": {
      "text/plain": [
       "0.08300446859695923"
      ]
     },
     "execution_count": 142,
     "metadata": {},
     "output_type": "execute_result"
    }
   ],
   "execution_count": 142
  },
  {
   "cell_type": "code",
   "metadata": {
    "ExecuteTime": {
     "end_time": "2024-04-19T14:13:40.093109Z",
     "start_time": "2024-04-19T14:13:40.082038Z"
    }
   },
   "source": [
    "d2.T"
   ],
   "outputs": [
    {
     "data": {
      "text/plain": [
       "array([[1, 4],\n",
       "       [2, 5],\n",
       "       [3, 6]])"
      ]
     },
     "execution_count": 143,
     "metadata": {},
     "output_type": "execute_result"
    }
   ],
   "execution_count": 143
  },
  {
   "cell_type": "code",
   "metadata": {
    "ExecuteTime": {
     "end_time": "2024-04-19T14:13:40.305447Z",
     "start_time": "2024-04-19T14:13:40.094158Z"
    }
   },
   "source": [
    "import matplotlib.pyplot as plt \n",
    "\n",
    "def Mean(lst:list)-> float : \n",
    "    return sum(lst) / len(lst) \n",
    "\n",
    "def Variance(lst:list)->float:\n",
    "    return sum(i**2 for i in lst ) / len(lst)\n",
    "\n",
    "def Standard_Deviation(variance:float)->float:\n",
    "    return round(variance ** 0.5,0)\n",
    "\n",
    "data = [600 , 470 , 170 , 430 , 300]\n",
    "mean_dog = Mean(data)\n",
    "buff_dog = [ d - mean_dog for d in data ]\n",
    "print(\"Means : \",buff_dog)\n",
    "variance_dog = Variance(buff_dog)\n",
    "print(\"σ2 : \",variance_dog)\n",
    "std_dog= Standard_Deviation(variance_dog)\n",
    "print(\"σ : \",std_dog)\n",
    "\n",
    "# Ploting \n",
    "'''  \n",
    "x = data\n",
    "y = range(len(data))\n",
    "'''\n",
    "plt.figure(figsize=(8,6))\n",
    "plt.scatter(range(len(data)),data , color='red', label='Data Points')\n",
    "plt.axhline(mean_dog, color='green', linestyle='--' , label='Mean')\n",
    "plt.axhline(mean_dog+std_dog, linestyle='--' , label='Std + Mean')\n",
    "plt.axhline(mean_dog-std_dog, color='blue', linestyle='--' , label='Std - Mean')\n",
    "plt.xlabel(\"Dog\")\n",
    "plt.ylabel(\"Height\")\n",
    "plt.title(\"Data with Mean and Stardard Deviation\")\n",
    "plt.legend()\n",
    "plt.grid(True)\n",
    "plt.xticks(range(len(data)))\n",
    "\n",
    "x_minpoint = 2\n",
    "\n",
    "# Add arrow \n",
    "plt.annotate('' , xy= (x_minpoint , mean_dog+std_dog) , xytext=(x_minpoint,mean_dog),\n",
    "              arrowprops = dict(facecolor='red', shrink=0.05))\n",
    "\n",
    "plt.annotate('' , xy= (x_minpoint, mean_dog-std_dog ) , xytext=(x_minpoint,mean_dog),\n",
    "              arrowprops = dict(facecolor='red', shrink=0.05))\n",
    "\n",
    "plt.show()\n"
   ],
   "outputs": [
    {
     "name": "stdout",
     "output_type": "stream",
     "text": [
      "Means :  [206.0, 76.0, -224.0, 36.0, -94.0]\n",
      "σ2 :  21704.0\n",
      "σ :  147.0\n"
     ]
    },
    {
     "data": {
      "text/plain": [
       "<Figure size 800x600 with 1 Axes>"
      ],
      "image/png": "[encoded data removed]"
     },
     "metadata": {},
     "output_type": "display_data"
    }
   ],
   "execution_count": 144
  },
  {
   "metadata": {
    "ExecuteTime": {
     "end_time": "2024-04-19T14:13:40.309914Z",
     "start_time": "2024-04-19T14:13:40.307533Z"
    }
   },
   "cell_type": "code",
   "source": "",
   "outputs": [],
   "execution_count": 144
  }
 ],
 "metadata": {
  "kernelspec": {
   "display_name": "base",
   "language": "python",
   "name": "python3"
  },
  "language_info": {
   "codemirror_mode": {
    "name": "ipython",
    "version": 3
   },
   "file_extension": ".py",
   "mimetype": "text/x-python",
   "name": "python",
   "nbconvert_exporter": "python",
   "pygments_lexer": "ipython3",
   "version": "3.11.5"
  }
 },
 "nbformat": 4,
 "nbformat_minor": 2
}
