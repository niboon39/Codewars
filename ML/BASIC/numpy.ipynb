{
 "cells": [
  {
   "cell_type": "code",
   "execution_count": 104,
   "metadata": {
    "ExecuteTime": {
     "end_time": "2024-04-25T03:07:02.262896800Z",
     "start_time": "2024-04-25T03:07:02.256886100Z"
    }
   },
   "outputs": [],
   "source": [
    "import numpy as np\n",
    "import pandas as pd "
   ]
  },
  {
   "cell_type": "code",
   "execution_count": 105,
   "metadata": {
    "ExecuteTime": {
     "end_time": "2024-04-25T03:07:02.772940600Z",
     "start_time": "2024-04-25T03:07:02.766956600Z"
    }
   },
   "outputs": [],
   "source": [
    "def info_np(n) -> str:\n",
    "    print(n)\n",
    "    return  f\"Dim : {n.ndim} , Shape : {n.shape} , Type(Element/Obj) : {n.dtype , type(n)} , a element in array : {n.size}\""
   ]
  },
  {
   "cell_type": "code",
   "execution_count": 106,
   "metadata": {
    "ExecuteTime": {
     "end_time": "2024-04-25T03:07:07.494083700Z",
     "start_time": "2024-04-25T03:07:07.485878200Z"
    }
   },
   "outputs": [
    {
     "data": {
      "text/plain": [
       "(array([1, 2, 3]), (3,))"
      ]
     },
     "execution_count": 106,
     "metadata": {},
     "output_type": "execute_result"
    }
   ],
   "source": [
    "d1 = np.array([1,2,3])\n",
    "d1 , d1.shape\n"
   ]
  },
  {
   "cell_type": "code",
   "execution_count": 107,
   "metadata": {
    "ExecuteTime": {
     "end_time": "2024-04-25T03:07:07.733333600Z",
     "start_time": "2024-04-25T03:07:07.726812900Z"
    }
   },
   "outputs": [
    {
     "data": {
      "text/plain": [
       "(array([[1, 2, 3],\n",
       "        [4, 5, 6]]),\n",
       " (2, 3))"
      ]
     },
     "execution_count": 107,
     "metadata": {},
     "output_type": "execute_result"
    }
   ],
   "source": [
    "d2 = np.array([[1,2,3],\n",
    "               [4,5,6]])\n",
    "d2 , d2.shape"
   ]
  },
  {
   "cell_type": "code",
   "execution_count": 108,
   "metadata": {
    "ExecuteTime": {
     "end_time": "2024-04-25T03:07:07.895711600Z",
     "start_time": "2024-04-25T03:07:07.888019600Z"
    }
   },
   "outputs": [
    {
     "data": {
      "text/plain": [
       "(array([[[ 1,  2,  3],\n",
       "         [ 4,  5,  6],\n",
       "         [ 7,  8,  9]],\n",
       " \n",
       "        [[10, 11, 12],\n",
       "         [13, 14, 15],\n",
       "         [16, 17, 18]]]),\n",
       " (2, 3, 3))"
      ]
     },
     "execution_count": 108,
     "metadata": {},
     "output_type": "execute_result"
    }
   ],
   "source": [
    "d3 = np.array( [[[1,2,3],\n",
    "                 [4,5,6],\n",
    "                 [7,8,9]],\n",
    "                [[10,11,12],\n",
    "                 [13,14,15],\n",
    "                 [16,17,18]]] )\n",
    "d3 , d3.shape"
   ]
  },
  {
   "cell_type": "code",
   "execution_count": 109,
   "metadata": {
    "ExecuteTime": {
     "end_time": "2024-04-25T03:07:08.451208900Z",
     "start_time": "2024-04-25T03:07:08.442030500Z"
    }
   },
   "outputs": [
    {
     "name": "stdout",
     "output_type": "stream",
     "text": [
      "What is the diemension of np array? :  1 2 3\n",
      "What is the type of np array? : int32 int32 int32\n",
      "How many element? :  3 6 18\n"
     ]
    }
   ],
   "source": [
    "print(\"What is the diemension of np array? : \",d1.ndim , d2.ndim , d3.ndim)\n",
    "print(\"What is the type of np array? :\",d1.dtype , d2.dtype , d3.dtype)\n",
    "print(\"How many element? : \",d1.size , d2.size , d3.size)"
   ]
  },
  {
   "cell_type": "code",
   "execution_count": 110,
   "metadata": {
    "ExecuteTime": {
     "end_time": "2024-04-25T03:07:09.597901700Z",
     "start_time": "2024-04-25T03:07:09.567648600Z"
    }
   },
   "outputs": [
    {
     "data": {
      "text/html": [
       "<div>\n",
       "<style scoped>\n",
       "    .dataframe tbody tr th:only-of-type {\n",
       "        vertical-align: middle;\n",
       "    }\n",
       "\n",
       "    .dataframe tbody tr th {\n",
       "        vertical-align: top;\n",
       "    }\n",
       "\n",
       "    .dataframe thead th {\n",
       "        text-align: right;\n",
       "    }\n",
       "</style>\n",
       "<table border=\"1\" class=\"dataframe\">\n",
       "  <thead>\n",
       "    <tr style=\"text-align: right;\">\n",
       "      <th></th>\n",
       "      <th>A</th>\n",
       "      <th>B</th>\n",
       "      <th>C</th>\n",
       "    </tr>\n",
       "  </thead>\n",
       "  <tbody>\n",
       "    <tr>\n",
       "      <th>0</th>\n",
       "      <td>1</td>\n",
       "      <td>2</td>\n",
       "      <td>3</td>\n",
       "    </tr>\n",
       "    <tr>\n",
       "      <th>1</th>\n",
       "      <td>4</td>\n",
       "      <td>5</td>\n",
       "      <td>6</td>\n",
       "    </tr>\n",
       "  </tbody>\n",
       "</table>\n",
       "</div>"
      ],
      "text/plain": [
       "   A  B  C\n",
       "0  1  2  3\n",
       "1  4  5  6"
      ]
     },
     "execution_count": 110,
     "metadata": {},
     "output_type": "execute_result"
    }
   ],
   "source": [
    "# Create a Dataframe from a Numpy array \n",
    "df = pd.DataFrame(d2 , columns=[\"A\" , \"B\" , \"C\"])\n",
    "df"
   ]
  },
  {
   "cell_type": "code",
   "execution_count": 111,
   "metadata": {
    "ExecuteTime": {
     "end_time": "2024-04-25T03:07:09.774246900Z",
     "start_time": "2024-04-25T03:07:09.764040700Z"
    }
   },
   "outputs": [
    {
     "name": "stdout",
     "output_type": "stream",
     "text": [
      "[1 1 1]\n"
     ]
    },
    {
     "data": {
      "text/plain": [
       "\"Dim : 1 , Shape : (3,) , Type(Element/Obj) : (dtype('int32'), <class 'numpy.ndarray'>) , a element in array : 3\""
      ]
     },
     "execution_count": 111,
     "metadata": {},
     "output_type": "execute_result"
    }
   ],
   "source": [
    "# press \"shift + TAB\" To see the comment \n",
    "ones : np.ndarray = np.ones((3) , np.int32)\n",
    "info_np(ones)"
   ]
  },
  {
   "cell_type": "code",
   "execution_count": 112,
   "metadata": {
    "ExecuteTime": {
     "end_time": "2024-04-25T03:07:10.620356300Z",
     "start_time": "2024-04-25T03:07:10.614015500Z"
    }
   },
   "outputs": [
    {
     "name": "stdout",
     "output_type": "stream",
     "text": [
      "[[0. 0. 0.]\n",
      " [0. 0. 0.]]\n"
     ]
    },
    {
     "data": {
      "text/plain": [
       "\"Dim : 2 , Shape : (2, 3) , Type(Element/Obj) : (dtype('float32'), <class 'numpy.ndarray'>) , a element in array : 6\""
      ]
     },
     "execution_count": 112,
     "metadata": {},
     "output_type": "execute_result"
    }
   ],
   "source": [
    "zeros : np.ndarray = np.zeros((2,3) , dtype=np.float32)\n",
    "info_np(zeros)"
   ]
  },
  {
   "cell_type": "code",
   "execution_count": 113,
   "metadata": {
    "ExecuteTime": {
     "end_time": "2024-04-25T03:07:12.450391700Z",
     "start_time": "2024-04-25T03:07:12.443861600Z"
    }
   },
   "outputs": [
    {
     "name": "stdout",
     "output_type": "stream",
     "text": [
      "[ 1  2  3  4  5  6  7  8  9 10]\n"
     ]
    },
    {
     "data": {
      "text/plain": [
       "\"Dim : 1 , Shape : (10,) , Type(Element/Obj) : (dtype('int32'), <class 'numpy.ndarray'>) , a element in array : 10\""
      ]
     },
     "execution_count": 113,
     "metadata": {},
     "output_type": "execute_result"
    }
   ],
   "source": [
    "range_array : np.ndarray = np.arange(1,11,1)\n",
    "info_np(range_array)"
   ]
  },
  {
   "cell_type": "code",
   "execution_count": 114,
   "metadata": {
    "ExecuteTime": {
     "end_time": "2024-04-25T03:07:13.188647900Z",
     "start_time": "2024-04-25T03:07:13.162209600Z"
    }
   },
   "outputs": [
    {
     "name": "stdout",
     "output_type": "stream",
     "text": [
      "[[3 6 8 9 6]\n",
      " [8 7 9 3 6]\n",
      " [1 2 5 5 0]]\n"
     ]
    },
    {
     "data": {
      "text/plain": [
       "\"Dim : 2 , Shape : (3, 5) , Type(Element/Obj) : (dtype('int32'), <class 'numpy.ndarray'>) , a element in array : 15\""
      ]
     },
     "execution_count": 114,
     "metadata": {},
     "output_type": "execute_result"
    }
   ],
   "source": [
    "np.random.seed(seed=23)\n",
    "random_array : np.ndarray = np.random.randint(low=0 , high=10 ,dtype=int , size=(3,5))\n",
    "info_np(random_array)"
   ]
  },
  {
   "cell_type": "code",
   "execution_count": 115,
   "metadata": {
    "ExecuteTime": {
     "end_time": "2024-04-25T03:07:15.606118800Z",
     "start_time": "2024-04-25T03:07:15.585920600Z"
    }
   },
   "outputs": [
    {
     "data": {
      "text/plain": [
       "array([0, 1, 2, 3, 5, 6, 7, 8, 9])"
      ]
     },
     "execution_count": 115,
     "metadata": {},
     "output_type": "execute_result"
    }
   ],
   "source": [
    "# Viewing array and matrices \n",
    "\n",
    "np.unique(random_array)"
   ]
  },
  {
   "cell_type": "code",
   "execution_count": 116,
   "metadata": {
    "ExecuteTime": {
     "end_time": "2024-04-25T03:07:16.412863900Z",
     "start_time": "2024-04-25T03:07:16.404376100Z"
    }
   },
   "outputs": [
    {
     "data": {
      "text/plain": [
       "array([[[ 1,  2,  3],\n",
       "        [ 4,  5,  6],\n",
       "        [ 7,  8,  9]],\n",
       "\n",
       "       [[10, 11, 12],\n",
       "        [13, 14, 15],\n",
       "        [16, 17, 18]]])"
      ]
     },
     "execution_count": 116,
     "metadata": {},
     "output_type": "execute_result"
    }
   ],
   "source": [
    "d3"
   ]
  },
  {
   "cell_type": "code",
   "execution_count": 117,
   "metadata": {
    "ExecuteTime": {
     "end_time": "2024-04-25T03:07:16.746971700Z",
     "start_time": "2024-04-25T03:07:16.737526200Z"
    }
   },
   "outputs": [
    {
     "data": {
      "text/plain": [
       "array([[[ 1,  2,  3]],\n",
       "\n",
       "       [[10, 11, 12]]])"
      ]
     },
     "execution_count": 117,
     "metadata": {},
     "output_type": "execute_result"
    }
   ],
   "source": [
    "d3[:2 , :1 , :3]"
   ]
  },
  {
   "cell_type": "code",
   "execution_count": 118,
   "metadata": {
    "ExecuteTime": {
     "end_time": "2024-04-25T03:07:17.131126600Z",
     "start_time": "2024-04-25T03:07:17.123180400Z"
    }
   },
   "outputs": [
    {
     "data": {
      "text/plain": [
       "array([2, 3, 4])"
      ]
     },
     "execution_count": 118,
     "metadata": {},
     "output_type": "execute_result"
    }
   ],
   "source": [
    "## Manipulation & comparing arrays\n",
    "# Arimetric\n",
    "d1 + ones"
   ]
  },
  {
   "cell_type": "code",
   "execution_count": 119,
   "metadata": {
    "ExecuteTime": {
     "end_time": "2024-04-25T03:07:17.334771300Z",
     "start_time": "2024-04-25T03:07:17.326425Z"
    }
   },
   "outputs": [
    {
     "data": {
      "text/plain": [
       "array([0, 1, 2])"
      ]
     },
     "execution_count": 119,
     "metadata": {},
     "output_type": "execute_result"
    }
   ],
   "source": [
    "d1 - ones"
   ]
  },
  {
   "cell_type": "code",
   "execution_count": 120,
   "metadata": {
    "ExecuteTime": {
     "end_time": "2024-04-25T03:07:17.966287100Z",
     "start_time": "2024-04-25T03:07:17.957307200Z"
    }
   },
   "outputs": [
    {
     "data": {
      "text/plain": [
       "array([1, 2, 3])"
      ]
     },
     "execution_count": 120,
     "metadata": {},
     "output_type": "execute_result"
    }
   ],
   "source": [
    "d1 * ones"
   ]
  },
  {
   "cell_type": "code",
   "execution_count": 121,
   "metadata": {
    "ExecuteTime": {
     "end_time": "2024-04-25T03:07:19.011736200Z",
     "start_time": "2024-04-25T03:07:19.003106300Z"
    }
   },
   "outputs": [
    {
     "data": {
      "text/plain": [
       "array([[ 1,  4,  9],\n",
       "       [ 4, 10, 18]])"
      ]
     },
     "execution_count": 121,
     "metadata": {},
     "output_type": "execute_result"
    }
   ],
   "source": [
    "d1 * d2"
   ]
  },
  {
   "cell_type": "code",
   "execution_count": 122,
   "metadata": {
    "ExecuteTime": {
     "end_time": "2024-04-25T03:07:19.227313500Z",
     "start_time": "2024-04-25T03:07:19.204912200Z"
    }
   },
   "outputs": [
    {
     "data": {
      "text/plain": [
       "array([1., 2., 3.])"
      ]
     },
     "execution_count": 122,
     "metadata": {},
     "output_type": "execute_result"
    }
   ],
   "source": [
    "d1 / ones"
   ]
  },
  {
   "cell_type": "code",
   "execution_count": 123,
   "metadata": {
    "ExecuteTime": {
     "end_time": "2024-04-25T03:07:19.411375100Z",
     "start_time": "2024-04-25T03:07:19.388283Z"
    }
   },
   "outputs": [
    {
     "data": {
      "text/plain": [
       "array([[1, 1, 1],\n",
       "       [4, 2, 2]])"
      ]
     },
     "execution_count": 123,
     "metadata": {},
     "output_type": "execute_result"
    }
   ],
   "source": [
    "d2 // d1"
   ]
  },
  {
   "cell_type": "code",
   "execution_count": 124,
   "metadata": {
    "ExecuteTime": {
     "end_time": "2024-04-25T03:07:19.997612Z",
     "start_time": "2024-04-25T03:07:19.986054800Z"
    }
   },
   "outputs": [
    {
     "data": {
      "text/plain": [
       "array([[[ 1,  2,  3],\n",
       "        [ 4,  5,  6],\n",
       "        [ 7,  8,  9]],\n",
       "\n",
       "       [[10, 11, 12],\n",
       "        [13, 14, 15],\n",
       "        [16, 17, 18]]])"
      ]
     },
     "execution_count": 124,
     "metadata": {},
     "output_type": "execute_result"
    }
   ],
   "source": [
    "d3"
   ]
  },
  {
   "cell_type": "code",
   "execution_count": 125,
   "metadata": {
    "ExecuteTime": {
     "end_time": "2024-04-25T03:07:20.218819200Z",
     "start_time": "2024-04-25T03:07:20.209425200Z"
    }
   },
   "outputs": [
    {
     "data": {
      "text/plain": [
       "array([[[ 1,  2,  3],\n",
       "        [ 4,  5,  6]],\n",
       "\n",
       "       [[ 7,  8,  9],\n",
       "        [10, 11, 12]],\n",
       "\n",
       "       [[13, 14, 15],\n",
       "        [16, 17, 18]]])"
      ]
     },
     "execution_count": 125,
     "metadata": {},
     "output_type": "execute_result"
    }
   ],
   "source": [
    "d3n = d3.reshape((3,2,3))\n",
    "d3n"
   ]
  },
  {
   "cell_type": "code",
   "execution_count": 126,
   "metadata": {
    "ExecuteTime": {
     "end_time": "2024-04-25T03:07:20.420351Z",
     "start_time": "2024-04-25T03:07:20.411667200Z"
    }
   },
   "outputs": [
    {
     "data": {
      "text/plain": [
       "array([[[  1,   4,   9],\n",
       "        [ 16,  25,  36]],\n",
       "\n",
       "       [[  7,  16,  27],\n",
       "        [ 40,  55,  72]],\n",
       "\n",
       "       [[ 13,  28,  45],\n",
       "        [ 64,  85, 108]]])"
      ]
     },
     "execution_count": 126,
     "metadata": {},
     "output_type": "execute_result"
    }
   ],
   "source": [
    "d3n*d2"
   ]
  },
  {
   "cell_type": "code",
   "execution_count": 127,
   "metadata": {
    "ExecuteTime": {
     "end_time": "2024-04-25T03:07:21.227461300Z",
     "start_time": "2024-04-25T03:07:21.222124700Z"
    }
   },
   "outputs": [
    {
     "data": {
      "text/plain": [
       "array([[[  1,   4,   9],\n",
       "        [ 16,  25,  36],\n",
       "        [  7,  16,  27]],\n",
       "\n",
       "       [[ 40,  55,  72],\n",
       "        [ 13,  28,  45],\n",
       "        [ 64,  85, 108]]])"
      ]
     },
     "execution_count": 127,
     "metadata": {},
     "output_type": "execute_result"
    }
   ],
   "source": [
    "d3z = (d2*d3n).reshape( (2,3,3))\n",
    "d3z"
   ]
  },
  {
   "cell_type": "code",
   "execution_count": 128,
   "metadata": {
    "ExecuteTime": {
     "end_time": "2024-04-25T03:07:21.397503900Z",
     "start_time": "2024-04-25T03:07:21.388577300Z"
    }
   },
   "outputs": [
    {
     "data": {
      "text/plain": [
       "array([0.88494754, 0.30040969, 0.58958187, 0.97842692, 0.84509382,\n",
       "       0.06507544, 0.29474446, 0.28793444, 0.82246634, 0.62618304])"
      ]
     },
     "execution_count": 128,
     "metadata": {},
     "output_type": "execute_result"
    }
   ],
   "source": [
    "rarray = np.random.random(100000)\n",
    "rarray[:10]"
   ]
  },
  {
   "cell_type": "code",
   "execution_count": 129,
   "metadata": {
    "ExecuteTime": {
     "end_time": "2024-04-25T03:07:38.927988100Z",
     "start_time": "2024-04-25T03:07:22.784932600Z"
    }
   },
   "outputs": [
    {
     "name": "stdout",
     "output_type": "stream",
     "text": [
      "12.6 ms ± 3.93 ms per loop (mean ± std. dev. of 7 runs, 100 loops each)\n",
      "63.3 µs ± 31.5 µs per loop (mean ± std. dev. of 7 runs, 10,000 loops each)\n"
     ]
    }
   ],
   "source": [
    "'''\n",
    "Use Python's method ( sum() ) on Python datatype and use Nunmpy's methods on Numpy array ( np.sum() ).\n",
    "'''\n",
    "%timeit sum(rarray)\n",
    "%timeit np.sum(rarray)"
   ]
  },
  {
   "cell_type": "code",
   "execution_count": 130,
   "metadata": {
    "ExecuteTime": {
     "end_time": "2024-04-25T03:07:38.927988100Z",
     "start_time": "2024-04-25T03:07:38.920132Z"
    }
   },
   "outputs": [
    {
     "data": {
      "text/plain": [
       "0.9999977907227711"
      ]
     },
     "execution_count": 130,
     "metadata": {},
     "output_type": "execute_result"
    }
   ],
   "source": [
    "np.max(rarray)"
   ]
  },
  {
   "cell_type": "code",
   "execution_count": 131,
   "metadata": {
    "ExecuteTime": {
     "end_time": "2024-04-25T03:07:38.935701200Z",
     "start_time": "2024-04-25T03:07:38.925993800Z"
    }
   },
   "outputs": [
    {
     "data": {
      "text/plain": [
       "8.37743545545333e-06"
      ]
     },
     "execution_count": 131,
     "metadata": {},
     "output_type": "execute_result"
    }
   ],
   "source": [
    "np.min(rarray)"
   ]
  },
  {
   "cell_type": "code",
   "execution_count": 132,
   "metadata": {
    "ExecuteTime": {
     "end_time": "2024-04-25T03:07:38.948455200Z",
     "start_time": "2024-04-25T03:07:38.934716Z"
    }
   },
   "outputs": [
    {
     "data": {
      "text/plain": [
       "0.2881049610766174"
      ]
     },
     "execution_count": 132,
     "metadata": {},
     "output_type": "execute_result"
    }
   ],
   "source": [
    "np.std(rarray)"
   ]
  },
  {
   "cell_type": "code",
   "execution_count": 133,
   "metadata": {
    "ExecuteTime": {
     "end_time": "2024-04-25T03:07:38.949454400Z",
     "start_time": "2024-04-25T03:07:38.944376600Z"
    }
   },
   "outputs": [
    {
     "data": {
      "text/plain": [
       "0.49929640939161807"
      ]
     },
     "execution_count": 133,
     "metadata": {},
     "output_type": "execute_result"
    }
   ],
   "source": [
    "np.mean(rarray)"
   ]
  },
  {
   "cell_type": "code",
   "execution_count": 134,
   "metadata": {
    "ExecuteTime": {
     "end_time": "2024-04-25T03:07:38.964408800Z",
     "start_time": "2024-04-25T03:07:38.951474500Z"
    }
   },
   "outputs": [
    {
     "data": {
      "text/plain": [
       "0.49810664422485174"
      ]
     },
     "execution_count": 134,
     "metadata": {},
     "output_type": "execute_result"
    }
   ],
   "source": [
    "np.median(rarray)"
   ]
  },
  {
   "cell_type": "code",
   "execution_count": 135,
   "metadata": {
    "ExecuteTime": {
     "end_time": "2024-04-25T03:07:39.065721300Z",
     "start_time": "2024-04-25T03:07:38.962414500Z"
    }
   },
   "outputs": [
    {
     "data": {
      "text/plain": [
       "0.08300446859695923"
      ]
     },
     "execution_count": 135,
     "metadata": {},
     "output_type": "execute_result"
    }
   ],
   "source": [
    "np.var(rarray)"
   ]
  },
  {
   "cell_type": "code",
   "execution_count": 136,
   "metadata": {
    "ExecuteTime": {
     "end_time": "2024-04-25T03:07:39.066719200Z",
     "start_time": "2024-04-25T03:07:38.970417800Z"
    }
   },
   "outputs": [
    {
     "data": {
      "text/plain": [
       "array([[1, 4],\n",
       "       [2, 5],\n",
       "       [3, 6]])"
      ]
     },
     "execution_count": 136,
     "metadata": {},
     "output_type": "execute_result"
    }
   ],
   "source": [
    "d2.T"
   ]
  },
  {
   "cell_type": "code",
   "execution_count": 137,
   "metadata": {
    "ExecuteTime": {
     "end_time": "2024-04-25T03:07:39.289527500Z",
     "start_time": "2024-04-25T03:07:38.995822900Z"
    }
   },
   "outputs": [
    {
     "name": "stdout",
     "output_type": "stream",
     "text": [
      "Means :  [206.0, 76.0, -224.0, 36.0, -94.0]\n",
      "σ2 :  21704.0\n",
      "σ :  147.0\n"
     ]
    },
    {
     "data": {
      "image/png": "[encoded data removed]",
      "text/plain": [
       "<Figure size 800x600 with 1 Axes>"
      ]
     },
     "metadata": {},
     "output_type": "display_data"
    }
   ],
   "source": [
    "import matplotlib.pyplot as plt \n",
    "\n",
    "def Mean(lst:list)-> float : \n",
    "    return sum(lst) / len(lst) \n",
    "\n",
    "def Variance(lst:list)->float:\n",
    "    return sum(i**2 for i in lst ) / len(lst)\n",
    "\n",
    "def Standard_Deviation(variance:float)->float:\n",
    "    return round(variance ** 0.5,0)\n",
    "\n",
    "data = [600 , 470 , 170 , 430 , 300]\n",
    "mean_dog = Mean(data)\n",
    "buff_dog = [ d - mean_dog for d in data ]\n",
    "print(\"Means : \",buff_dog)\n",
    "variance_dog = Variance(buff_dog)\n",
    "print(\"σ2 : \",variance_dog)\n",
    "std_dog= Standard_Deviation(variance_dog)\n",
    "print(\"σ : \",std_dog)\n",
    "\n",
    "# Ploting \n",
    "'''  \n",
    "x = data\n",
    "y = range(len(data))\n",
    "'''\n",
    "plt.figure(figsize=(8,6))\n",
    "plt.scatter(range(len(data)),data , color='red', label='Data Points')\n",
    "plt.axhline(mean_dog, color='green', linestyle='--' , label='Mean')\n",
    "plt.axhline(mean_dog+std_dog, linestyle='--' , label='Std + Mean')\n",
    "plt.axhline(mean_dog-std_dog, color='blue', linestyle='--' , label='Std - Mean')\n",
    "plt.xlabel(\"Dog\")\n",
    "plt.ylabel(\"Height\")\n",
    "plt.title(\"Data with Mean and Stardard Deviation\")\n",
    "plt.legend()\n",
    "plt.grid(True)\n",
    "plt.xticks(range(len(data)))\n",
    "\n",
    "x_minpoint = 2\n",
    "\n",
    "# Add arrow \n",
    "plt.annotate('' , xy= (x_minpoint , mean_dog+std_dog) , xytext=(x_minpoint,mean_dog),\n",
    "              arrowprops = dict(facecolor='red', shrink=0.05))\n",
    "\n",
    "plt.annotate('' , xy= (x_minpoint, mean_dog-std_dog ) , xytext=(x_minpoint,mean_dog),\n",
    "              arrowprops = dict(facecolor='red', shrink=0.05))\n",
    "\n",
    "plt.show()\n"
   ]
  },
  {
   "cell_type": "code",
   "execution_count": 138,
   "metadata": {
    "ExecuteTime": {
     "end_time": "2024-04-25T03:07:39.290525100Z",
     "start_time": "2024-04-25T03:07:39.289527500Z"
    }
   },
   "outputs": [
    {
     "data": {
      "text/plain": [
       "array([[ 40,  46],\n",
       "       [ 94, 109],\n",
       "       [148, 172]])"
      ]
     },
     "execution_count": 138,
     "metadata": {},
     "output_type": "execute_result"
    }
   ],
   "source": [
    "x1= np.array( [[1,2,3],\n",
    "               [4,5,6],\n",
    "               [7,8,9]] )\n",
    "x2 = np.array( [[4,5],\n",
    "                [6,7],\n",
    "                [8,9]] )\n",
    "np.dot(x1 , x2)"
   ]
  },
  {
   "cell_type": "code",
   "execution_count": 139,
   "metadata": {
    "ExecuteTime": {
     "end_time": "2024-04-25T03:07:39.291546300Z",
     "start_time": "2024-04-25T03:07:39.290525100Z"
    },
    "collapsed": false
   },
   "outputs": [
    {
     "data": {
      "text/plain": [
       "(5, 5)"
      ]
     },
     "execution_count": 139,
     "metadata": {},
     "output_type": "execute_result"
    }
   ],
   "source": [
    "x3 = np.random.random((5,3))\n",
    "x3.shape\n",
    "\n",
    "x4 = np.random.random((5,3))\n",
    "x4 = x4.T\n",
    "\n",
    "mat34 = np.dot(x3 , x4)\n",
    "mat34.shape"
   ]
  },
  {
   "cell_type": "code",
   "execution_count": 140,
   "metadata": {
    "ExecuteTime": {
     "end_time": "2024-04-25T03:07:39.299265300Z",
     "start_time": "2024-04-25T03:07:39.290525100Z"
    },
    "collapsed": false
   },
   "outputs": [
    {
     "data": {
      "text/plain": [
       "array([[ 5, 11, 12],\n",
       "       [ 8,  9, 11],\n",
       "       [ 5, 15,  0],\n",
       "       [16,  1, 12],\n",
       "       [ 7, 13,  6]])"
      ]
     },
     "execution_count": 140,
     "metadata": {},
     "output_type": "execute_result"
    }
   ],
   "source": [
    "# Dot product example\n",
    "np.random.seed(1)\n",
    "# Number of jars sold\n",
    "sales_amounts = np.random.randint(20 , size=(5,3))\n",
    "sales_amounts"
   ]
  },
  {
   "cell_type": "code",
   "execution_count": 141,
   "metadata": {
    "ExecuteTime": {
     "end_time": "2024-04-25T03:07:39.366880700Z",
     "start_time": "2024-04-25T03:07:39.298269400Z"
    },
    "collapsed": false
   },
   "outputs": [
    {
     "data": {
      "text/html": [
       "<div>\n",
       "<style scoped>\n",
       "    .dataframe tbody tr th:only-of-type {\n",
       "        vertical-align: middle;\n",
       "    }\n",
       "\n",
       "    .dataframe tbody tr th {\n",
       "        vertical-align: top;\n",
       "    }\n",
       "\n",
       "    .dataframe thead th {\n",
       "        text-align: right;\n",
       "    }\n",
       "</style>\n",
       "<table border=\"1\" class=\"dataframe\">\n",
       "  <thead>\n",
       "    <tr style=\"text-align: right;\">\n",
       "      <th></th>\n",
       "      <th>Almond butter</th>\n",
       "      <th>Peabut butter</th>\n",
       "      <th>Cashew butter</th>\n",
       "    </tr>\n",
       "  </thead>\n",
       "  <tbody>\n",
       "    <tr>\n",
       "      <th>Monday</th>\n",
       "      <td>5</td>\n",
       "      <td>11</td>\n",
       "      <td>12</td>\n",
       "    </tr>\n",
       "    <tr>\n",
       "      <th>Tuesday</th>\n",
       "      <td>8</td>\n",
       "      <td>9</td>\n",
       "      <td>11</td>\n",
       "    </tr>\n",
       "    <tr>\n",
       "      <th>Wednesday</th>\n",
       "      <td>5</td>\n",
       "      <td>15</td>\n",
       "      <td>0</td>\n",
       "    </tr>\n",
       "    <tr>\n",
       "      <th>Thursday</th>\n",
       "      <td>16</td>\n",
       "      <td>1</td>\n",
       "      <td>12</td>\n",
       "    </tr>\n",
       "    <tr>\n",
       "      <th>Friday</th>\n",
       "      <td>7</td>\n",
       "      <td>13</td>\n",
       "      <td>6</td>\n",
       "    </tr>\n",
       "  </tbody>\n",
       "</table>\n",
       "</div>"
      ],
      "text/plain": [
       "           Almond butter  Peabut butter  Cashew butter\n",
       "Monday                 5             11             12\n",
       "Tuesday                8              9             11\n",
       "Wednesday              5             15              0\n",
       "Thursday              16              1             12\n",
       "Friday                 7             13              6"
      ]
     },
     "execution_count": 141,
     "metadata": {},
     "output_type": "execute_result"
    }
   ],
   "source": [
    "# Create weekly_sales DataFrame\n",
    "weekly_sales = pd.DataFrame(data=sales_amounts,\n",
    "                            index=[\"Monday\",\"Tuesday\",\"Wednesday\",\"Thursday\",\"Friday\"],\n",
    "                            columns=[\"Almond butter\",\"Peabut butter\",\"Cashew butter\"])\n",
    "weekly_sales"
   ]
  },
  {
   "cell_type": "code",
   "execution_count": 142,
   "metadata": {
    "ExecuteTime": {
     "end_time": "2024-04-25T03:07:39.366880700Z",
     "start_time": "2024-04-25T03:07:39.309597600Z"
    },
    "collapsed": false
   },
   "outputs": [
    {
     "data": {
      "text/plain": [
       "3"
      ]
     },
     "execution_count": 142,
     "metadata": {},
     "output_type": "execute_result"
    }
   ],
   "source": [
    "len(weekly_sales.loc[\"Monday\"])"
   ]
  },
  {
   "cell_type": "code",
   "execution_count": 143,
   "metadata": {
    "ExecuteTime": {
     "end_time": "2024-04-25T03:07:46.567534100Z",
     "start_time": "2024-04-25T03:07:46.558022100Z"
    },
    "collapsed": false
   },
   "outputs": [
    {
     "data": {
      "text/html": [
       "<div>\n",
       "<style scoped>\n",
       "    .dataframe tbody tr th:only-of-type {\n",
       "        vertical-align: middle;\n",
       "    }\n",
       "\n",
       "    .dataframe tbody tr th {\n",
       "        vertical-align: top;\n",
       "    }\n",
       "\n",
       "    .dataframe thead th {\n",
       "        text-align: right;\n",
       "    }\n",
       "</style>\n",
       "<table border=\"1\" class=\"dataframe\">\n",
       "  <thead>\n",
       "    <tr style=\"text-align: right;\">\n",
       "      <th></th>\n",
       "      <th>Almond butter</th>\n",
       "      <th>Peabut butter</th>\n",
       "      <th>Cashew butter</th>\n",
       "      <th>Total</th>\n",
       "    </tr>\n",
       "  </thead>\n",
       "  <tbody>\n",
       "    <tr>\n",
       "      <th>Monday</th>\n",
       "      <td>5</td>\n",
       "      <td>11</td>\n",
       "      <td>12</td>\n",
       "      <td>282</td>\n",
       "    </tr>\n",
       "    <tr>\n",
       "      <th>Tuesday</th>\n",
       "      <td>8</td>\n",
       "      <td>9</td>\n",
       "      <td>11</td>\n",
       "      <td>284</td>\n",
       "    </tr>\n",
       "    <tr>\n",
       "      <th>Wednesday</th>\n",
       "      <td>5</td>\n",
       "      <td>15</td>\n",
       "      <td>0</td>\n",
       "      <td>170</td>\n",
       "    </tr>\n",
       "    <tr>\n",
       "      <th>Thursday</th>\n",
       "      <td>16</td>\n",
       "      <td>1</td>\n",
       "      <td>12</td>\n",
       "      <td>312</td>\n",
       "    </tr>\n",
       "    <tr>\n",
       "      <th>Friday</th>\n",
       "      <td>7</td>\n",
       "      <td>13</td>\n",
       "      <td>6</td>\n",
       "      <td>246</td>\n",
       "    </tr>\n",
       "  </tbody>\n",
       "</table>\n",
       "</div>"
      ],
      "text/plain": [
       "           Almond butter  Peabut butter  Cashew butter  Total\n",
       "Monday                 5             11             12    282\n",
       "Tuesday                8              9             11    284\n",
       "Wednesday              5             15              0    170\n",
       "Thursday              16              1             12    312\n",
       "Friday                 7             13              6    246"
      ]
     },
     "execution_count": 143,
     "metadata": {},
     "output_type": "execute_result"
    }
   ],
   "source": [
    "# Method 1\n",
    "Total = []\n",
    "price =[10 , 8 , 12]\n",
    "count = 0\n",
    "rows_lst = list(weekly_sales.index)\n",
    "for day in rows_lst:\n",
    "    for idx,item in enumerate(weekly_sales.loc[day]):\n",
    "        count += price[idx] * item\n",
    "    Total.append( count )\n",
    "    count = 0\n",
    "\n",
    "weekly_sales[\"Total\"] = Total\n",
    "weekly_sales"
   ]
  },
  {
   "cell_type": "code",
   "execution_count": null,
   "metadata": {
    "collapsed": false
   },
   "outputs": [],
   "source": [
    "# Method 2\n",
    "npPrice : np = np.array(price)\n",
    "df_price = pd.DataFrame(data=npPrice.reshape(1,3),\n",
    "                        index=[\"Price\"],\n",
    "                        columns=[\"Almond butter\" , \"Peabut butter\" , \"Cashew butter\"])\n",
    "df_price"
   ]
  },
  {
   "cell_type": "code",
   "execution_count": null,
   "metadata": {
    "collapsed": false
   },
   "outputs": [],
   "source": [
    "total = df_price.dot(weekly_sales.T)\n",
    "weekly_sales[\"Total\"] = total.T\n",
    "weekly_sales"
   ]
  },
  {
   "cell_type": "code",
   "execution_count": 144,
   "metadata": {
    "ExecuteTime": {
     "end_time": "2024-04-25T03:07:53.822087Z",
     "start_time": "2024-04-25T03:07:53.815515600Z"
    },
    "collapsed": false
   },
   "outputs": [
    {
     "data": {
      "text/plain": [
       "array([1, 2, 3])"
      ]
     },
     "execution_count": 144,
     "metadata": {},
     "output_type": "execute_result"
    }
   ],
   "source": [
    "# Comparision np array [ < > <= >= != == ]\n",
    "d1"
   ]
  },
  {
   "cell_type": "code",
   "execution_count": 145,
   "metadata": {
    "ExecuteTime": {
     "end_time": "2024-04-25T03:07:54.043291400Z",
     "start_time": "2024-04-25T03:07:54.024912800Z"
    },
    "collapsed": false
   },
   "outputs": [
    {
     "data": {
      "text/plain": [
       "array([[1, 2, 3],\n",
       "       [4, 5, 6]])"
      ]
     },
     "execution_count": 145,
     "metadata": {},
     "output_type": "execute_result"
    }
   ],
   "source": [
    "d2"
   ]
  },
  {
   "cell_type": "code",
   "execution_count": 146,
   "metadata": {
    "ExecuteTime": {
     "end_time": "2024-04-25T03:07:54.233521500Z",
     "start_time": "2024-04-25T03:07:54.227988700Z"
    },
    "collapsed": false
   },
   "outputs": [
    {
     "data": {
      "text/plain": [
       "array([[False, False, False],\n",
       "       [False, False, False]])"
      ]
     },
     "execution_count": 146,
     "metadata": {},
     "output_type": "execute_result"
    }
   ],
   "source": [
    "d1 > d2"
   ]
  },
  {
   "cell_type": "code",
   "execution_count": 147,
   "metadata": {
    "ExecuteTime": {
     "end_time": "2024-04-25T03:07:54.442683600Z",
     "start_time": "2024-04-25T03:07:54.422122500Z"
    },
    "collapsed": false
   },
   "outputs": [
    {
     "data": {
      "text/plain": [
       "array([[ True,  True,  True],\n",
       "       [False, False, False]])"
      ]
     },
     "execution_count": 147,
     "metadata": {},
     "output_type": "execute_result"
    }
   ],
   "source": [
    "d1 >= d2"
   ]
  },
  {
   "cell_type": "code",
   "execution_count": 148,
   "metadata": {
    "ExecuteTime": {
     "end_time": "2024-04-25T03:07:54.651150700Z",
     "start_time": "2024-04-25T03:07:54.612258600Z"
    },
    "collapsed": false
   },
   "outputs": [
    {
     "data": {
      "text/plain": [
       "array([[9, 2, 4],\n",
       "       [5, 2, 4],\n",
       "       [2, 4, 7],\n",
       "       [7, 9, 1],\n",
       "       [7, 0, 6]])"
      ]
     },
     "execution_count": 148,
     "metadata": {},
     "output_type": "execute_result"
    }
   ],
   "source": [
    "rand_array = np.random.randint(low = 0,high=10,size=(5,3))\n",
    "rand_array"
   ]
  },
  {
   "cell_type": "code",
   "execution_count": 149,
   "metadata": {
    "ExecuteTime": {
     "end_time": "2024-04-25T03:07:54.848055100Z",
     "start_time": "2024-04-25T03:07:54.796872500Z"
    },
    "collapsed": false
   },
   "outputs": [
    {
     "data": {
      "text/plain": [
       "array([[2, 4, 9],\n",
       "       [2, 4, 5],\n",
       "       [2, 4, 7],\n",
       "       [1, 7, 9],\n",
       "       [0, 6, 7]])"
      ]
     },
     "execution_count": 149,
     "metadata": {},
     "output_type": "execute_result"
    }
   ],
   "source": [
    "row = np.sort(rand_array)\n",
    "row"
   ]
  },
  {
   "cell_type": "code",
   "execution_count": 150,
   "metadata": {
    "ExecuteTime": {
     "end_time": "2024-04-25T03:07:54.993052400Z",
     "start_time": "2024-04-25T03:07:54.973208500Z"
    },
    "collapsed": false
   },
   "outputs": [
    {
     "data": {
      "text/plain": [
       "array([[2, 4, 9],\n",
       "       [2, 4, 5],\n",
       "       [2, 4, 7],\n",
       "       [1, 7, 9],\n",
       "       [0, 6, 7]])"
      ]
     },
     "execution_count": 150,
     "metadata": {},
     "output_type": "execute_result"
    }
   ],
   "source": [
    "cosl = np.sort(rand_array,axis=-1)\n",
    "cosl"
   ]
  },
  {
   "cell_type": "code",
   "execution_count": 151,
   "metadata": {
    "ExecuteTime": {
     "end_time": "2024-04-25T03:07:55.232670600Z",
     "start_time": "2024-04-25T03:07:55.182305500Z"
    },
    "collapsed": false
   },
   "outputs": [
    {
     "data": {
      "text/plain": [
       "array([1, 2, 3])"
      ]
     },
     "execution_count": 151,
     "metadata": {},
     "output_type": "execute_result"
    }
   ],
   "source": [
    "d1"
   ]
  },
  {
   "cell_type": "code",
   "execution_count": 152,
   "metadata": {
    "ExecuteTime": {
     "end_time": "2024-04-25T03:07:55.403058800Z",
     "start_time": "2024-04-25T03:07:55.390974500Z"
    },
    "collapsed": false
   },
   "outputs": [
    {
     "data": {
      "text/plain": [
       "array([0, 1, 2], dtype=int64)"
      ]
     },
     "execution_count": 152,
     "metadata": {},
     "output_type": "execute_result"
    }
   ],
   "source": [
    "np.argsort(d1)  # return idnex"
   ]
  },
  {
   "cell_type": "code",
   "execution_count": 153,
   "metadata": {
    "ExecuteTime": {
     "end_time": "2024-04-25T03:07:55.637209500Z",
     "start_time": "2024-04-25T03:07:55.607647800Z"
    },
    "collapsed": false
   },
   "outputs": [
    {
     "data": {
      "text/plain": [
       "1"
      ]
     },
     "execution_count": 153,
     "metadata": {},
     "output_type": "execute_result"
    }
   ],
   "source": [
    "d1[np.argmin(d1)]"
   ]
  },
  {
   "cell_type": "code",
   "execution_count": 154,
   "metadata": {
    "ExecuteTime": {
     "end_time": "2024-04-25T03:07:55.801688Z",
     "start_time": "2024-04-25T03:07:55.794676Z"
    },
    "collapsed": false
   },
   "outputs": [
    {
     "data": {
      "text/plain": [
       "3"
      ]
     },
     "execution_count": 154,
     "metadata": {},
     "output_type": "execute_result"
    }
   ],
   "source": [
    "d1[np.argmax(d1)]"
   ]
  },
  {
   "cell_type": "code",
   "execution_count": 161,
   "metadata": {
    "ExecuteTime": {
     "end_time": "2024-04-25T03:09:07.711213600Z",
     "start_time": "2024-04-25T03:09:07.702154Z"
    },
    "collapsed": false
   },
   "outputs": [
    {
     "data": {
      "text/plain": [
       "array([[1, 2, 3],\n",
       "       [4, 5, 6]])"
      ]
     },
     "execution_count": 161,
     "metadata": {},
     "output_type": "execute_result"
    }
   ],
   "source": [
    "d2"
   ]
  },
  {
   "cell_type": "code",
   "execution_count": 168,
   "metadata": {
    "ExecuteTime": {
     "end_time": "2024-04-25T03:17:57.449231Z",
     "start_time": "2024-04-25T03:17:57.419984Z"
    },
    "collapsed": false
   },
   "outputs": [
    {
     "data": {
      "text/plain": [
       "array([1, 1, 1], dtype=int64)"
      ]
     },
     "execution_count": 168,
     "metadata": {},
     "output_type": "execute_result"
    }
   ],
   "source": [
    "np.argmax(d2 , axis=0) # return maximum value in columns"
   ]
  },
  {
   "cell_type": "code",
   "execution_count": 169,
   "metadata": {
    "ExecuteTime": {
     "end_time": "2024-04-25T03:17:57.660471200Z",
     "start_time": "2024-04-25T03:17:57.588320400Z"
    },
    "collapsed": false
   },
   "outputs": [
    {
     "data": {
      "text/plain": [
       "array([2, 2], dtype=int64)"
      ]
     },
     "execution_count": 169,
     "metadata": {},
     "output_type": "execute_result"
    }
   ],
   "source": [
    "np.argmax(d2 , axis=1) # return maximum value in rows"
   ]
  },
  {
   "cell_type": "code",
   "execution_count": 190,
   "metadata": {
    "ExecuteTime": {
     "end_time": "2024-04-25T03:34:08.442972800Z",
     "start_time": "2024-04-25T03:34:08.423026600Z"
    },
    "collapsed": false
   },
   "outputs": [
    {
     "data": {
      "image/jpeg": "[encoded data removed]",
      "text/plain": [
       "<IPython.core.display.Image object>"
      ]
     },
     "execution_count": 190,
     "metadata": {},
     "output_type": "execute_result"
    }
   ],
   "source": [
    "# Numpy in action\n",
    "from IPython.display import Image\n",
    "import os\n",
    "os.chdir(\"C:\\\\Users\\\\HPPro\\\\Documents\\\\GitHub\\\\Codewars\\\\ML\\\\picture\")\n",
    "Image(filename=\"cat.jpg\")"
   ]
  },
  {
   "cell_type": "code",
   "execution_count": 194,
   "metadata": {
    "ExecuteTime": {
     "end_time": "2024-04-25T03:39:05.147131Z",
     "start_time": "2024-04-25T03:39:05.118396500Z"
    },
    "collapsed": false
   },
   "outputs": [
    {
     "name": "stdout",
     "output_type": "stream",
     "text": [
      "(784, 684, 3) <class 'numpy.ndarray'> uint8 3\n"
     ]
    }
   ],
   "source": [
    "# Turn an image into a Numpy array\n",
    "from matplotlib.image import imread\n",
    "\n",
    "cat = imread(fname=\"cat.jpg\")\n",
    "print(cat.shape , type(cat) , cat.dtype , cat.ndim)"
   ]
  },
  {
   "cell_type": "code",
   "execution_count": null,
   "metadata": {
    "collapsed": false
   },
   "outputs": [],
   "source": []
  }
 ],
 "metadata": {
  "kernelspec": {
   "display_name": "base",
   "language": "python",
   "name": "python3"
  },
  "language_info": {
   "codemirror_mode": {
    "name": "ipython",
    "version": 3
   },
   "file_extension": ".py",
   "mimetype": "text/x-python",
   "name": "python",
   "nbconvert_exporter": "python",
   "pygments_lexer": "ipython3",
   "version": "3.11.3"
  }
 },
 "nbformat": 4,
 "nbformat_minor": 2
}
